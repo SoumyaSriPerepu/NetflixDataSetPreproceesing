{
 "cells": [
  {
   "cell_type": "code",
   "execution_count": 1,
   "id": "2f9a031d",
   "metadata": {
    "_cell_guid": "b1076dfc-b9ad-4769-8c92-a6c4dae69d19",
    "_uuid": "8f2839f25d086af736a60e9eeb907d3b93b6e0e5",
    "execution": {
     "iopub.execute_input": "2024-04-23T20:20:31.332217Z",
     "iopub.status.busy": "2024-04-23T20:20:31.331745Z",
     "iopub.status.idle": "2024-04-23T20:20:32.604424Z",
     "shell.execute_reply": "2024-04-23T20:20:32.602844Z"
    },
    "papermill": {
     "duration": 1.286006,
     "end_time": "2024-04-23T20:20:32.607588",
     "exception": false,
     "start_time": "2024-04-23T20:20:31.321582",
     "status": "completed"
    },
    "tags": []
   },
   "outputs": [
    {
     "name": "stdout",
     "output_type": "stream",
     "text": [
      "/kaggle/input/netflix-dataset/netflix_titles.csv\n"
     ]
    }
   ],
   "source": [
    "# This Python 3 environment comes with many helpful analytics libraries installed\n",
    "# It is defined by the kaggle/python Docker image: https://github.com/kaggle/docker-python\n",
    "# For example, here's several helpful packages to load\n",
    "\n",
    "import numpy as np # linear algebra\n",
    "import pandas as pd # data processing, CSV file I/O (e.g. pd.read_csv)\n",
    "\n",
    "# Input data files are available in the read-only \"../input/\" directory\n",
    "# For example, running this (by clicking run or pressing Shift+Enter) will list all files under the input directory\n",
    "\n",
    "import os\n",
    "for dirname, _, filenames in os.walk('/kaggle/input'):\n",
    "    for filename in filenames:\n",
    "        print(os.path.join(dirname, filename))\n",
    "\n",
    "# You can write up to 20GB to the current directory (/kaggle/working/) that gets preserved as output when you create a version using \"Save & Run All\" \n",
    "# You can also write temporary files to /kaggle/temp/, but they won't be saved outside of the current session"
   ]
  },
  {
   "cell_type": "markdown",
   "id": "af1a4d54",
   "metadata": {
    "papermill": {
     "duration": 0.006207,
     "end_time": "2024-04-23T20:20:32.620622",
     "exception": false,
     "start_time": "2024-04-23T20:20:32.614415",
     "status": "completed"
    },
    "tags": []
   },
   "source": [
    "Data from netflix to build a neural network with one layer "
   ]
  },
  {
   "cell_type": "raw",
   "id": "3060b424",
   "metadata": {
    "papermill": {
     "duration": 0.006485,
     "end_time": "2024-04-23T20:20:32.633840",
     "exception": false,
     "start_time": "2024-04-23T20:20:32.627355",
     "status": "completed"
    },
    "tags": []
   },
   "source": [
    "Importing functions "
   ]
  },
  {
   "cell_type": "markdown",
   "id": "a3419daf",
   "metadata": {
    "papermill": {
     "duration": 0.007686,
     "end_time": "2024-04-23T20:20:32.648433",
     "exception": false,
     "start_time": "2024-04-23T20:20:32.640747",
     "status": "completed"
    },
    "tags": []
   },
   "source": [
    "Using only numpy, pandas,mathplotlib"
   ]
  },
  {
   "cell_type": "code",
   "execution_count": 2,
   "id": "38b05cea",
   "metadata": {
    "execution": {
     "iopub.execute_input": "2024-04-23T20:20:32.664451Z",
     "iopub.status.busy": "2024-04-23T20:20:32.663813Z",
     "iopub.status.idle": "2024-04-23T20:20:32.670017Z",
     "shell.execute_reply": "2024-04-23T20:20:32.668707Z"
    },
    "papermill": {
     "duration": 0.017504,
     "end_time": "2024-04-23T20:20:32.672534",
     "exception": false,
     "start_time": "2024-04-23T20:20:32.655030",
     "status": "completed"
    },
    "tags": []
   },
   "outputs": [],
   "source": [
    "import pandas as pd\n",
    "import numpy as np\n",
    "import matplotlib.pyplot as plt"
   ]
  },
  {
   "cell_type": "code",
   "execution_count": 3,
   "id": "5a9b16c1",
   "metadata": {
    "execution": {
     "iopub.execute_input": "2024-04-23T20:20:32.689043Z",
     "iopub.status.busy": "2024-04-23T20:20:32.688172Z",
     "iopub.status.idle": "2024-04-23T20:20:32.867714Z",
     "shell.execute_reply": "2024-04-23T20:20:32.865844Z"
    },
    "papermill": {
     "duration": 0.191909,
     "end_time": "2024-04-23T20:20:32.870971",
     "exception": false,
     "start_time": "2024-04-23T20:20:32.679062",
     "status": "completed"
    },
    "tags": []
   },
   "outputs": [],
   "source": [
    "data = pd.read_csv(\"/kaggle/input/netflix-dataset/netflix_titles.csv\")"
   ]
  },
  {
   "cell_type": "code",
   "execution_count": 4,
   "id": "5b3d295b",
   "metadata": {
    "execution": {
     "iopub.execute_input": "2024-04-23T20:20:32.886773Z",
     "iopub.status.busy": "2024-04-23T20:20:32.886231Z",
     "iopub.status.idle": "2024-04-23T20:20:32.923730Z",
     "shell.execute_reply": "2024-04-23T20:20:32.922269Z"
    },
    "papermill": {
     "duration": 0.049413,
     "end_time": "2024-04-23T20:20:32.927123",
     "exception": false,
     "start_time": "2024-04-23T20:20:32.877710",
     "status": "completed"
    },
    "tags": []
   },
   "outputs": [
    {
     "data": {
      "text/html": [
       "<div>\n",
       "<style scoped>\n",
       "    .dataframe tbody tr th:only-of-type {\n",
       "        vertical-align: middle;\n",
       "    }\n",
       "\n",
       "    .dataframe tbody tr th {\n",
       "        vertical-align: top;\n",
       "    }\n",
       "\n",
       "    .dataframe thead th {\n",
       "        text-align: right;\n",
       "    }\n",
       "</style>\n",
       "<table border=\"1\" class=\"dataframe\">\n",
       "  <thead>\n",
       "    <tr style=\"text-align: right;\">\n",
       "      <th></th>\n",
       "      <th>show_id</th>\n",
       "      <th>type</th>\n",
       "      <th>title</th>\n",
       "      <th>director</th>\n",
       "      <th>cast</th>\n",
       "      <th>country</th>\n",
       "      <th>date_added</th>\n",
       "      <th>release_year</th>\n",
       "      <th>rating</th>\n",
       "      <th>duration</th>\n",
       "      <th>listed_in</th>\n",
       "      <th>description</th>\n",
       "    </tr>\n",
       "  </thead>\n",
       "  <tbody>\n",
       "    <tr>\n",
       "      <th>0</th>\n",
       "      <td>s1</td>\n",
       "      <td>Movie</td>\n",
       "      <td>Dick Johnson Is Dead</td>\n",
       "      <td>Kirsten Johnson</td>\n",
       "      <td>NaN</td>\n",
       "      <td>United States</td>\n",
       "      <td>September 25, 2021</td>\n",
       "      <td>2020</td>\n",
       "      <td>PG-13</td>\n",
       "      <td>90 min</td>\n",
       "      <td>Documentaries</td>\n",
       "      <td>As her father nears the end of his life, filmm...</td>\n",
       "    </tr>\n",
       "    <tr>\n",
       "      <th>1</th>\n",
       "      <td>s2</td>\n",
       "      <td>TV Show</td>\n",
       "      <td>Blood &amp; Water</td>\n",
       "      <td>NaN</td>\n",
       "      <td>Ama Qamata, Khosi Ngema, Gail Mabalane, Thaban...</td>\n",
       "      <td>South Africa</td>\n",
       "      <td>September 24, 2021</td>\n",
       "      <td>2021</td>\n",
       "      <td>TV-MA</td>\n",
       "      <td>2 Seasons</td>\n",
       "      <td>International TV Shows, TV Dramas, TV Mysteries</td>\n",
       "      <td>After crossing paths at a party, a Cape Town t...</td>\n",
       "    </tr>\n",
       "    <tr>\n",
       "      <th>2</th>\n",
       "      <td>s3</td>\n",
       "      <td>TV Show</td>\n",
       "      <td>Ganglands</td>\n",
       "      <td>Julien Leclercq</td>\n",
       "      <td>Sami Bouajila, Tracy Gotoas, Samuel Jouy, Nabi...</td>\n",
       "      <td>NaN</td>\n",
       "      <td>September 24, 2021</td>\n",
       "      <td>2021</td>\n",
       "      <td>TV-MA</td>\n",
       "      <td>1 Season</td>\n",
       "      <td>Crime TV Shows, International TV Shows, TV Act...</td>\n",
       "      <td>To protect his family from a powerful drug lor...</td>\n",
       "    </tr>\n",
       "    <tr>\n",
       "      <th>3</th>\n",
       "      <td>s4</td>\n",
       "      <td>TV Show</td>\n",
       "      <td>Jailbirds New Orleans</td>\n",
       "      <td>NaN</td>\n",
       "      <td>NaN</td>\n",
       "      <td>NaN</td>\n",
       "      <td>September 24, 2021</td>\n",
       "      <td>2021</td>\n",
       "      <td>TV-MA</td>\n",
       "      <td>1 Season</td>\n",
       "      <td>Docuseries, Reality TV</td>\n",
       "      <td>Feuds, flirtations and toilet talk go down amo...</td>\n",
       "    </tr>\n",
       "    <tr>\n",
       "      <th>4</th>\n",
       "      <td>s5</td>\n",
       "      <td>TV Show</td>\n",
       "      <td>Kota Factory</td>\n",
       "      <td>NaN</td>\n",
       "      <td>Mayur More, Jitendra Kumar, Ranjan Raj, Alam K...</td>\n",
       "      <td>India</td>\n",
       "      <td>September 24, 2021</td>\n",
       "      <td>2021</td>\n",
       "      <td>TV-MA</td>\n",
       "      <td>2 Seasons</td>\n",
       "      <td>International TV Shows, Romantic TV Shows, TV ...</td>\n",
       "      <td>In a city of coaching centers known to train I...</td>\n",
       "    </tr>\n",
       "  </tbody>\n",
       "</table>\n",
       "</div>"
      ],
      "text/plain": [
       "  show_id     type                  title         director  \\\n",
       "0      s1    Movie   Dick Johnson Is Dead  Kirsten Johnson   \n",
       "1      s2  TV Show          Blood & Water              NaN   \n",
       "2      s3  TV Show              Ganglands  Julien Leclercq   \n",
       "3      s4  TV Show  Jailbirds New Orleans              NaN   \n",
       "4      s5  TV Show           Kota Factory              NaN   \n",
       "\n",
       "                                                cast        country  \\\n",
       "0                                                NaN  United States   \n",
       "1  Ama Qamata, Khosi Ngema, Gail Mabalane, Thaban...   South Africa   \n",
       "2  Sami Bouajila, Tracy Gotoas, Samuel Jouy, Nabi...            NaN   \n",
       "3                                                NaN            NaN   \n",
       "4  Mayur More, Jitendra Kumar, Ranjan Raj, Alam K...          India   \n",
       "\n",
       "           date_added  release_year rating   duration  \\\n",
       "0  September 25, 2021          2020  PG-13     90 min   \n",
       "1  September 24, 2021          2021  TV-MA  2 Seasons   \n",
       "2  September 24, 2021          2021  TV-MA   1 Season   \n",
       "3  September 24, 2021          2021  TV-MA   1 Season   \n",
       "4  September 24, 2021          2021  TV-MA  2 Seasons   \n",
       "\n",
       "                                           listed_in  \\\n",
       "0                                      Documentaries   \n",
       "1    International TV Shows, TV Dramas, TV Mysteries   \n",
       "2  Crime TV Shows, International TV Shows, TV Act...   \n",
       "3                             Docuseries, Reality TV   \n",
       "4  International TV Shows, Romantic TV Shows, TV ...   \n",
       "\n",
       "                                         description  \n",
       "0  As her father nears the end of his life, filmm...  \n",
       "1  After crossing paths at a party, a Cape Town t...  \n",
       "2  To protect his family from a powerful drug lor...  \n",
       "3  Feuds, flirtations and toilet talk go down amo...  \n",
       "4  In a city of coaching centers known to train I...  "
      ]
     },
     "execution_count": 4,
     "metadata": {},
     "output_type": "execute_result"
    }
   ],
   "source": [
    "data.head()"
   ]
  },
  {
   "cell_type": "code",
   "execution_count": 5,
   "id": "f29fb3bb",
   "metadata": {
    "execution": {
     "iopub.execute_input": "2024-04-23T20:20:32.944280Z",
     "iopub.status.busy": "2024-04-23T20:20:32.943788Z",
     "iopub.status.idle": "2024-04-23T20:20:32.988917Z",
     "shell.execute_reply": "2024-04-23T20:20:32.987140Z"
    },
    "papermill": {
     "duration": 0.058018,
     "end_time": "2024-04-23T20:20:32.992244",
     "exception": false,
     "start_time": "2024-04-23T20:20:32.934226",
     "status": "completed"
    },
    "tags": []
   },
   "outputs": [
    {
     "name": "stdout",
     "output_type": "stream",
     "text": [
      "<class 'pandas.core.frame.DataFrame'>\n",
      "RangeIndex: 8807 entries, 0 to 8806\n",
      "Data columns (total 12 columns):\n",
      " #   Column        Non-Null Count  Dtype \n",
      "---  ------        --------------  ----- \n",
      " 0   show_id       8807 non-null   object\n",
      " 1   type          8807 non-null   object\n",
      " 2   title         8807 non-null   object\n",
      " 3   director      6173 non-null   object\n",
      " 4   cast          7982 non-null   object\n",
      " 5   country       7976 non-null   object\n",
      " 6   date_added    8797 non-null   object\n",
      " 7   release_year  8807 non-null   int64 \n",
      " 8   rating        8803 non-null   object\n",
      " 9   duration      8804 non-null   object\n",
      " 10  listed_in     8807 non-null   object\n",
      " 11  description   8807 non-null   object\n",
      "dtypes: int64(1), object(11)\n",
      "memory usage: 825.8+ KB\n"
     ]
    }
   ],
   "source": [
    "data.info()"
   ]
  },
  {
   "cell_type": "code",
   "execution_count": 6,
   "id": "d95d464b",
   "metadata": {
    "execution": {
     "iopub.execute_input": "2024-04-23T20:20:33.012010Z",
     "iopub.status.busy": "2024-04-23T20:20:33.011331Z",
     "iopub.status.idle": "2024-04-23T20:20:33.036888Z",
     "shell.execute_reply": "2024-04-23T20:20:33.035247Z"
    },
    "papermill": {
     "duration": 0.039905,
     "end_time": "2024-04-23T20:20:33.040366",
     "exception": false,
     "start_time": "2024-04-23T20:20:33.000461",
     "status": "completed"
    },
    "tags": []
   },
   "outputs": [
    {
     "data": {
      "text/plain": [
       "show_id            0\n",
       "type               0\n",
       "title              0\n",
       "director        2634\n",
       "cast             825\n",
       "country          831\n",
       "date_added        10\n",
       "release_year       0\n",
       "rating             4\n",
       "duration           3\n",
       "listed_in          0\n",
       "description        0\n",
       "dtype: int64"
      ]
     },
     "execution_count": 6,
     "metadata": {},
     "output_type": "execute_result"
    }
   ],
   "source": [
    "data.isnull().sum()"
   ]
  },
  {
   "cell_type": "code",
   "execution_count": 7,
   "id": "b87e783a",
   "metadata": {
    "execution": {
     "iopub.execute_input": "2024-04-23T20:20:33.058988Z",
     "iopub.status.busy": "2024-04-23T20:20:33.058461Z",
     "iopub.status.idle": "2024-04-23T20:20:33.084853Z",
     "shell.execute_reply": "2024-04-23T20:20:33.082067Z"
    },
    "papermill": {
     "duration": 0.039653,
     "end_time": "2024-04-23T20:20:33.088296",
     "exception": false,
     "start_time": "2024-04-23T20:20:33.048643",
     "status": "completed"
    },
    "tags": []
   },
   "outputs": [],
   "source": [
    "data = data.dropna()"
   ]
  },
  {
   "cell_type": "code",
   "execution_count": 8,
   "id": "a2c537a3",
   "metadata": {
    "execution": {
     "iopub.execute_input": "2024-04-23T20:20:33.105428Z",
     "iopub.status.busy": "2024-04-23T20:20:33.104906Z",
     "iopub.status.idle": "2024-04-23T20:20:33.125172Z",
     "shell.execute_reply": "2024-04-23T20:20:33.123269Z"
    },
    "papermill": {
     "duration": 0.032806,
     "end_time": "2024-04-23T20:20:33.128373",
     "exception": false,
     "start_time": "2024-04-23T20:20:33.095567",
     "status": "completed"
    },
    "tags": []
   },
   "outputs": [
    {
     "data": {
      "text/plain": [
       "show_id         0\n",
       "type            0\n",
       "title           0\n",
       "director        0\n",
       "cast            0\n",
       "country         0\n",
       "date_added      0\n",
       "release_year    0\n",
       "rating          0\n",
       "duration        0\n",
       "listed_in       0\n",
       "description     0\n",
       "dtype: int64"
      ]
     },
     "execution_count": 8,
     "metadata": {},
     "output_type": "execute_result"
    }
   ],
   "source": [
    "data.isnull().sum()"
   ]
  },
  {
   "cell_type": "code",
   "execution_count": 9,
   "id": "42b9a0a4",
   "metadata": {
    "execution": {
     "iopub.execute_input": "2024-04-23T20:20:33.147018Z",
     "iopub.status.busy": "2024-04-23T20:20:33.146573Z",
     "iopub.status.idle": "2024-04-23T20:20:33.475762Z",
     "shell.execute_reply": "2024-04-23T20:20:33.474177Z"
    },
    "papermill": {
     "duration": 0.342622,
     "end_time": "2024-04-23T20:20:33.479682",
     "exception": false,
     "start_time": "2024-04-23T20:20:33.137060",
     "status": "completed"
    },
    "tags": []
   },
   "outputs": [
    {
     "data": {
      "image/png": "[encoded data removed]",
      "text/plain": [
       "<Figure size 800x600 with 1 Axes>"
      ]
     },
     "metadata": {},
     "output_type": "display_data"
    }
   ],
   "source": [
    "counts = data['type'].value_counts()\n",
    "plt.figure(figsize=(8, 6))\n",
    "plt.bar(counts.index, counts.values)\n",
    "for i, count in enumerate(counts):\n",
    "    plt.text(i, count + 0.1, f\"{int(count)}\", ha='center')\n",
    "\n",
    "plt.title('Distribution of Content Types')\n",
    "plt.xlabel('Type')\n",
    "plt.ylabel('Count')\n",
    "plt.show()"
   ]
  },
  {
   "cell_type": "code",
   "execution_count": 10,
   "id": "271fde16",
   "metadata": {
    "execution": {
     "iopub.execute_input": "2024-04-23T20:20:33.503441Z",
     "iopub.status.busy": "2024-04-23T20:20:33.500727Z",
     "iopub.status.idle": "2024-04-23T20:20:33.525581Z",
     "shell.execute_reply": "2024-04-23T20:20:33.524167Z"
    },
    "papermill": {
     "duration": 0.038218,
     "end_time": "2024-04-23T20:20:33.528372",
     "exception": false,
     "start_time": "2024-04-23T20:20:33.490154",
     "status": "completed"
    },
    "tags": []
   },
   "outputs": [
    {
     "data": {
      "text/html": [
       "<div>\n",
       "<style scoped>\n",
       "    .dataframe tbody tr th:only-of-type {\n",
       "        vertical-align: middle;\n",
       "    }\n",
       "\n",
       "    .dataframe tbody tr th {\n",
       "        vertical-align: top;\n",
       "    }\n",
       "\n",
       "    .dataframe thead th {\n",
       "        text-align: right;\n",
       "    }\n",
       "</style>\n",
       "<table border=\"1\" class=\"dataframe\">\n",
       "  <thead>\n",
       "    <tr style=\"text-align: right;\">\n",
       "      <th></th>\n",
       "      <th>show_id</th>\n",
       "      <th>type</th>\n",
       "      <th>title</th>\n",
       "      <th>director</th>\n",
       "      <th>cast</th>\n",
       "      <th>country</th>\n",
       "      <th>date_added</th>\n",
       "      <th>release_year</th>\n",
       "      <th>rating</th>\n",
       "      <th>duration</th>\n",
       "      <th>listed_in</th>\n",
       "      <th>description</th>\n",
       "    </tr>\n",
       "  </thead>\n",
       "  <tbody>\n",
       "    <tr>\n",
       "      <th>7</th>\n",
       "      <td>s8</td>\n",
       "      <td>Movie</td>\n",
       "      <td>Sankofa</td>\n",
       "      <td>Haile Gerima</td>\n",
       "      <td>Kofi Ghanaba, Oyafunmike Ogunlano, Alexandra D...</td>\n",
       "      <td>United States, Ghana, Burkina Faso, United Kin...</td>\n",
       "      <td>September 24, 2021</td>\n",
       "      <td>1993</td>\n",
       "      <td>TV-MA</td>\n",
       "      <td>125 min</td>\n",
       "      <td>Dramas, Independent Movies, International Movies</td>\n",
       "      <td>On a photo shoot in Ghana, an American model s...</td>\n",
       "    </tr>\n",
       "    <tr>\n",
       "      <th>8</th>\n",
       "      <td>s9</td>\n",
       "      <td>TV Show</td>\n",
       "      <td>The Great British Baking Show</td>\n",
       "      <td>Andy Devonshire</td>\n",
       "      <td>Mel Giedroyc, Sue Perkins, Mary Berry, Paul Ho...</td>\n",
       "      <td>United Kingdom</td>\n",
       "      <td>September 24, 2021</td>\n",
       "      <td>2021</td>\n",
       "      <td>TV-14</td>\n",
       "      <td>9 Seasons</td>\n",
       "      <td>British TV Shows, Reality TV</td>\n",
       "      <td>A talented batch of amateur bakers face off in...</td>\n",
       "    </tr>\n",
       "    <tr>\n",
       "      <th>9</th>\n",
       "      <td>s10</td>\n",
       "      <td>Movie</td>\n",
       "      <td>The Starling</td>\n",
       "      <td>Theodore Melfi</td>\n",
       "      <td>Melissa McCarthy, Chris O'Dowd, Kevin Kline, T...</td>\n",
       "      <td>United States</td>\n",
       "      <td>September 24, 2021</td>\n",
       "      <td>2021</td>\n",
       "      <td>PG-13</td>\n",
       "      <td>104 min</td>\n",
       "      <td>Comedies, Dramas</td>\n",
       "      <td>A woman adjusting to life after a loss contend...</td>\n",
       "    </tr>\n",
       "    <tr>\n",
       "      <th>12</th>\n",
       "      <td>s13</td>\n",
       "      <td>Movie</td>\n",
       "      <td>Je Suis Karl</td>\n",
       "      <td>Christian Schwochow</td>\n",
       "      <td>Luna Wedler, Jannis Niewöhner, Milan Peschel, ...</td>\n",
       "      <td>Germany, Czech Republic</td>\n",
       "      <td>September 23, 2021</td>\n",
       "      <td>2021</td>\n",
       "      <td>TV-MA</td>\n",
       "      <td>127 min</td>\n",
       "      <td>Dramas, International Movies</td>\n",
       "      <td>After most of her family is murdered in a terr...</td>\n",
       "    </tr>\n",
       "    <tr>\n",
       "      <th>24</th>\n",
       "      <td>s25</td>\n",
       "      <td>Movie</td>\n",
       "      <td>Jeans</td>\n",
       "      <td>S. Shankar</td>\n",
       "      <td>Prashanth, Aishwarya Rai Bachchan, Sri Lakshmi...</td>\n",
       "      <td>India</td>\n",
       "      <td>September 21, 2021</td>\n",
       "      <td>1998</td>\n",
       "      <td>TV-14</td>\n",
       "      <td>166 min</td>\n",
       "      <td>Comedies, International Movies, Romantic Movies</td>\n",
       "      <td>When the father of the man she loves insists t...</td>\n",
       "    </tr>\n",
       "  </tbody>\n",
       "</table>\n",
       "</div>"
      ],
      "text/plain": [
       "   show_id     type                          title             director  \\\n",
       "7       s8    Movie                        Sankofa         Haile Gerima   \n",
       "8       s9  TV Show  The Great British Baking Show      Andy Devonshire   \n",
       "9      s10    Movie                   The Starling       Theodore Melfi   \n",
       "12     s13    Movie                   Je Suis Karl  Christian Schwochow   \n",
       "24     s25    Movie                          Jeans           S. Shankar   \n",
       "\n",
       "                                                 cast  \\\n",
       "7   Kofi Ghanaba, Oyafunmike Ogunlano, Alexandra D...   \n",
       "8   Mel Giedroyc, Sue Perkins, Mary Berry, Paul Ho...   \n",
       "9   Melissa McCarthy, Chris O'Dowd, Kevin Kline, T...   \n",
       "12  Luna Wedler, Jannis Niewöhner, Milan Peschel, ...   \n",
       "24  Prashanth, Aishwarya Rai Bachchan, Sri Lakshmi...   \n",
       "\n",
       "                                              country          date_added  \\\n",
       "7   United States, Ghana, Burkina Faso, United Kin...  September 24, 2021   \n",
       "8                                      United Kingdom  September 24, 2021   \n",
       "9                                       United States  September 24, 2021   \n",
       "12                            Germany, Czech Republic  September 23, 2021   \n",
       "24                                              India  September 21, 2021   \n",
       "\n",
       "    release_year rating   duration  \\\n",
       "7           1993  TV-MA    125 min   \n",
       "8           2021  TV-14  9 Seasons   \n",
       "9           2021  PG-13    104 min   \n",
       "12          2021  TV-MA    127 min   \n",
       "24          1998  TV-14    166 min   \n",
       "\n",
       "                                           listed_in  \\\n",
       "7   Dramas, Independent Movies, International Movies   \n",
       "8                       British TV Shows, Reality TV   \n",
       "9                                   Comedies, Dramas   \n",
       "12                      Dramas, International Movies   \n",
       "24   Comedies, International Movies, Romantic Movies   \n",
       "\n",
       "                                          description  \n",
       "7   On a photo shoot in Ghana, an American model s...  \n",
       "8   A talented batch of amateur bakers face off in...  \n",
       "9   A woman adjusting to life after a loss contend...  \n",
       "12  After most of her family is murdered in a terr...  \n",
       "24  When the father of the man she loves insists t...  "
      ]
     },
     "execution_count": 10,
     "metadata": {},
     "output_type": "execute_result"
    }
   ],
   "source": [
    "data.head()"
   ]
  },
  {
   "cell_type": "code",
   "execution_count": 11,
   "id": "2a83a1d6",
   "metadata": {
    "execution": {
     "iopub.execute_input": "2024-04-23T20:20:33.547688Z",
     "iopub.status.busy": "2024-04-23T20:20:33.547172Z",
     "iopub.status.idle": "2024-04-23T20:20:33.582414Z",
     "shell.execute_reply": "2024-04-23T20:20:33.580768Z"
    },
    "papermill": {
     "duration": 0.04883,
     "end_time": "2024-04-23T20:20:33.585623",
     "exception": false,
     "start_time": "2024-04-23T20:20:33.536793",
     "status": "completed"
    },
    "tags": []
   },
   "outputs": [],
   "source": [
    "data1 = pd.get_dummies(data, columns=[\"type\", \"country\", \"listed_in\"])"
   ]
  },
  {
   "cell_type": "code",
   "execution_count": 12,
   "id": "0799b5e1",
   "metadata": {
    "execution": {
     "iopub.execute_input": "2024-04-23T20:20:33.604754Z",
     "iopub.status.busy": "2024-04-23T20:20:33.604241Z",
     "iopub.status.idle": "2024-04-23T20:20:33.668333Z",
     "shell.execute_reply": "2024-04-23T20:20:33.666801Z"
    },
    "papermill": {
     "duration": 0.077593,
     "end_time": "2024-04-23T20:20:33.671631",
     "exception": false,
     "start_time": "2024-04-23T20:20:33.594038",
     "status": "completed"
    },
    "tags": []
   },
   "outputs": [
    {
     "name": "stdout",
     "output_type": "stream",
     "text": [
      "<class 'pandas.core.frame.DataFrame'>\n",
      "Index: 5332 entries, 7 to 8806\n",
      "Columns: 950 entries, show_id to listed_in_Thrillers\n",
      "dtypes: bool(941), int64(1), object(8)\n",
      "memory usage: 5.2+ MB\n"
     ]
    }
   ],
   "source": [
    "data1.info()"
   ]
  },
  {
   "cell_type": "code",
   "execution_count": 13,
   "id": "10e49423",
   "metadata": {
    "execution": {
     "iopub.execute_input": "2024-04-23T20:20:33.692279Z",
     "iopub.status.busy": "2024-04-23T20:20:33.691841Z",
     "iopub.status.idle": "2024-04-23T20:20:33.715030Z",
     "shell.execute_reply": "2024-04-23T20:20:33.713491Z"
    },
    "papermill": {
     "duration": 0.037206,
     "end_time": "2024-04-23T20:20:33.718493",
     "exception": false,
     "start_time": "2024-04-23T20:20:33.681287",
     "status": "completed"
    },
    "tags": []
   },
   "outputs": [
    {
     "name": "stdout",
     "output_type": "stream",
     "text": [
      "<class 'pandas.core.frame.DataFrame'>\n",
      "Index: 5332 entries, 7 to 8806\n",
      "Data columns (total 12 columns):\n",
      " #   Column        Non-Null Count  Dtype \n",
      "---  ------        --------------  ----- \n",
      " 0   show_id       5332 non-null   object\n",
      " 1   type          5332 non-null   object\n",
      " 2   title         5332 non-null   object\n",
      " 3   director      5332 non-null   object\n",
      " 4   cast          5332 non-null   object\n",
      " 5   country       5332 non-null   object\n",
      " 6   date_added    5332 non-null   object\n",
      " 7   release_year  5332 non-null   int64 \n",
      " 8   rating        5332 non-null   object\n",
      " 9   duration      5332 non-null   object\n",
      " 10  listed_in     5332 non-null   object\n",
      " 11  description   5332 non-null   object\n",
      "dtypes: int64(1), object(11)\n",
      "memory usage: 541.5+ KB\n"
     ]
    }
   ],
   "source": [
    "data.info()"
   ]
  },
  {
   "cell_type": "code",
   "execution_count": 14,
   "id": "51a1da8c",
   "metadata": {
    "execution": {
     "iopub.execute_input": "2024-04-23T20:20:33.739787Z",
     "iopub.status.busy": "2024-04-23T20:20:33.739299Z",
     "iopub.status.idle": "2024-04-23T20:20:33.774832Z",
     "shell.execute_reply": "2024-04-23T20:20:33.773239Z"
    },
    "papermill": {
     "duration": 0.049668,
     "end_time": "2024-04-23T20:20:33.778120",
     "exception": false,
     "start_time": "2024-04-23T20:20:33.728452",
     "status": "completed"
    },
    "tags": []
   },
   "outputs": [],
   "source": [
    "# Normalize numerical features\n",
    "data1[\"release_year\"] = pd.to_numeric(data1[\"release_year\"], errors='coerce')\n",
    "data1[\"release_year\"] = (data1[\"release_year\"] - data1[\"release_year\"].min()) / (data1[\"release_year\"].max() - data1[\"release_year\"].min())\n",
    "data1[\"rating\"] = pd.to_numeric(data1[\"rating\"], errors='coerce')\n",
    "data1[\"rating\"] = (data1[\"rating\"] - data1[\"rating\"].min()) / (data1[\"rating\"].max() - data1[\"rating\"].min())\n",
    "data1[\"duration\"] = pd.to_numeric(data1[\"duration\"], errors='coerce')\n",
    "data1[\"duration\"] = (data1[\"duration\"] - data1[\"duration\"].min()) / (data1[\"duration\"].max() - data1[\"duration\"].min())\n"
   ]
  },
  {
   "cell_type": "code",
   "execution_count": 15,
   "id": "5b0ae663",
   "metadata": {
    "execution": {
     "iopub.execute_input": "2024-04-23T20:20:33.799142Z",
     "iopub.status.busy": "2024-04-23T20:20:33.798625Z",
     "iopub.status.idle": "2024-04-23T20:20:33.832891Z",
     "shell.execute_reply": "2024-04-23T20:20:33.831356Z"
    },
    "papermill": {
     "duration": 0.048649,
     "end_time": "2024-04-23T20:20:33.836097",
     "exception": false,
     "start_time": "2024-04-23T20:20:33.787448",
     "status": "completed"
    },
    "tags": []
   },
   "outputs": [
    {
     "data": {
      "text/html": [
       "<div>\n",
       "<style scoped>\n",
       "    .dataframe tbody tr th:only-of-type {\n",
       "        vertical-align: middle;\n",
       "    }\n",
       "\n",
       "    .dataframe tbody tr th {\n",
       "        vertical-align: top;\n",
       "    }\n",
       "\n",
       "    .dataframe thead th {\n",
       "        text-align: right;\n",
       "    }\n",
       "</style>\n",
       "<table border=\"1\" class=\"dataframe\">\n",
       "  <thead>\n",
       "    <tr style=\"text-align: right;\">\n",
       "      <th></th>\n",
       "      <th>show_id</th>\n",
       "      <th>title</th>\n",
       "      <th>director</th>\n",
       "      <th>cast</th>\n",
       "      <th>date_added</th>\n",
       "      <th>release_year</th>\n",
       "      <th>rating</th>\n",
       "      <th>duration</th>\n",
       "      <th>description</th>\n",
       "      <th>type_Movie</th>\n",
       "      <th>...</th>\n",
       "      <th>listed_in_Stand-Up Comedy</th>\n",
       "      <th>listed_in_Stand-Up Comedy &amp; Talk Shows</th>\n",
       "      <th>listed_in_Stand-Up Comedy &amp; Talk Shows, TV Comedies</th>\n",
       "      <th>listed_in_TV Action &amp; Adventure, TV Sci-Fi &amp; Fantasy</th>\n",
       "      <th>listed_in_TV Comedies</th>\n",
       "      <th>listed_in_TV Comedies, TV Dramas</th>\n",
       "      <th>listed_in_TV Dramas</th>\n",
       "      <th>listed_in_TV Horror, TV Mysteries, TV Thrillers</th>\n",
       "      <th>listed_in_TV Shows</th>\n",
       "      <th>listed_in_Thrillers</th>\n",
       "    </tr>\n",
       "  </thead>\n",
       "  <tbody>\n",
       "    <tr>\n",
       "      <th>7</th>\n",
       "      <td>s8</td>\n",
       "      <td>Sankofa</td>\n",
       "      <td>Haile Gerima</td>\n",
       "      <td>Kofi Ghanaba, Oyafunmike Ogunlano, Alexandra D...</td>\n",
       "      <td>September 24, 2021</td>\n",
       "      <td>0.645570</td>\n",
       "      <td>NaN</td>\n",
       "      <td>NaN</td>\n",
       "      <td>On a photo shoot in Ghana, an American model s...</td>\n",
       "      <td>True</td>\n",
       "      <td>...</td>\n",
       "      <td>False</td>\n",
       "      <td>False</td>\n",
       "      <td>False</td>\n",
       "      <td>False</td>\n",
       "      <td>False</td>\n",
       "      <td>False</td>\n",
       "      <td>False</td>\n",
       "      <td>False</td>\n",
       "      <td>False</td>\n",
       "      <td>False</td>\n",
       "    </tr>\n",
       "    <tr>\n",
       "      <th>8</th>\n",
       "      <td>s9</td>\n",
       "      <td>The Great British Baking Show</td>\n",
       "      <td>Andy Devonshire</td>\n",
       "      <td>Mel Giedroyc, Sue Perkins, Mary Berry, Paul Ho...</td>\n",
       "      <td>September 24, 2021</td>\n",
       "      <td>1.000000</td>\n",
       "      <td>NaN</td>\n",
       "      <td>NaN</td>\n",
       "      <td>A talented batch of amateur bakers face off in...</td>\n",
       "      <td>False</td>\n",
       "      <td>...</td>\n",
       "      <td>False</td>\n",
       "      <td>False</td>\n",
       "      <td>False</td>\n",
       "      <td>False</td>\n",
       "      <td>False</td>\n",
       "      <td>False</td>\n",
       "      <td>False</td>\n",
       "      <td>False</td>\n",
       "      <td>False</td>\n",
       "      <td>False</td>\n",
       "    </tr>\n",
       "    <tr>\n",
       "      <th>9</th>\n",
       "      <td>s10</td>\n",
       "      <td>The Starling</td>\n",
       "      <td>Theodore Melfi</td>\n",
       "      <td>Melissa McCarthy, Chris O'Dowd, Kevin Kline, T...</td>\n",
       "      <td>September 24, 2021</td>\n",
       "      <td>1.000000</td>\n",
       "      <td>NaN</td>\n",
       "      <td>NaN</td>\n",
       "      <td>A woman adjusting to life after a loss contend...</td>\n",
       "      <td>True</td>\n",
       "      <td>...</td>\n",
       "      <td>False</td>\n",
       "      <td>False</td>\n",
       "      <td>False</td>\n",
       "      <td>False</td>\n",
       "      <td>False</td>\n",
       "      <td>False</td>\n",
       "      <td>False</td>\n",
       "      <td>False</td>\n",
       "      <td>False</td>\n",
       "      <td>False</td>\n",
       "    </tr>\n",
       "    <tr>\n",
       "      <th>12</th>\n",
       "      <td>s13</td>\n",
       "      <td>Je Suis Karl</td>\n",
       "      <td>Christian Schwochow</td>\n",
       "      <td>Luna Wedler, Jannis Niewöhner, Milan Peschel, ...</td>\n",
       "      <td>September 23, 2021</td>\n",
       "      <td>1.000000</td>\n",
       "      <td>NaN</td>\n",
       "      <td>NaN</td>\n",
       "      <td>After most of her family is murdered in a terr...</td>\n",
       "      <td>True</td>\n",
       "      <td>...</td>\n",
       "      <td>False</td>\n",
       "      <td>False</td>\n",
       "      <td>False</td>\n",
       "      <td>False</td>\n",
       "      <td>False</td>\n",
       "      <td>False</td>\n",
       "      <td>False</td>\n",
       "      <td>False</td>\n",
       "      <td>False</td>\n",
       "      <td>False</td>\n",
       "    </tr>\n",
       "    <tr>\n",
       "      <th>24</th>\n",
       "      <td>s25</td>\n",
       "      <td>Jeans</td>\n",
       "      <td>S. Shankar</td>\n",
       "      <td>Prashanth, Aishwarya Rai Bachchan, Sri Lakshmi...</td>\n",
       "      <td>September 21, 2021</td>\n",
       "      <td>0.708861</td>\n",
       "      <td>NaN</td>\n",
       "      <td>NaN</td>\n",
       "      <td>When the father of the man she loves insists t...</td>\n",
       "      <td>True</td>\n",
       "      <td>...</td>\n",
       "      <td>False</td>\n",
       "      <td>False</td>\n",
       "      <td>False</td>\n",
       "      <td>False</td>\n",
       "      <td>False</td>\n",
       "      <td>False</td>\n",
       "      <td>False</td>\n",
       "      <td>False</td>\n",
       "      <td>False</td>\n",
       "      <td>False</td>\n",
       "    </tr>\n",
       "  </tbody>\n",
       "</table>\n",
       "<p>5 rows × 950 columns</p>\n",
       "</div>"
      ],
      "text/plain": [
       "   show_id                          title             director  \\\n",
       "7       s8                        Sankofa         Haile Gerima   \n",
       "8       s9  The Great British Baking Show      Andy Devonshire   \n",
       "9      s10                   The Starling       Theodore Melfi   \n",
       "12     s13                   Je Suis Karl  Christian Schwochow   \n",
       "24     s25                          Jeans           S. Shankar   \n",
       "\n",
       "                                                 cast          date_added  \\\n",
       "7   Kofi Ghanaba, Oyafunmike Ogunlano, Alexandra D...  September 24, 2021   \n",
       "8   Mel Giedroyc, Sue Perkins, Mary Berry, Paul Ho...  September 24, 2021   \n",
       "9   Melissa McCarthy, Chris O'Dowd, Kevin Kline, T...  September 24, 2021   \n",
       "12  Luna Wedler, Jannis Niewöhner, Milan Peschel, ...  September 23, 2021   \n",
       "24  Prashanth, Aishwarya Rai Bachchan, Sri Lakshmi...  September 21, 2021   \n",
       "\n",
       "    release_year  rating  duration  \\\n",
       "7       0.645570     NaN       NaN   \n",
       "8       1.000000     NaN       NaN   \n",
       "9       1.000000     NaN       NaN   \n",
       "12      1.000000     NaN       NaN   \n",
       "24      0.708861     NaN       NaN   \n",
       "\n",
       "                                          description  type_Movie  ...  \\\n",
       "7   On a photo shoot in Ghana, an American model s...        True  ...   \n",
       "8   A talented batch of amateur bakers face off in...       False  ...   \n",
       "9   A woman adjusting to life after a loss contend...        True  ...   \n",
       "12  After most of her family is murdered in a terr...        True  ...   \n",
       "24  When the father of the man she loves insists t...        True  ...   \n",
       "\n",
       "    listed_in_Stand-Up Comedy  listed_in_Stand-Up Comedy & Talk Shows  \\\n",
       "7                       False                                   False   \n",
       "8                       False                                   False   \n",
       "9                       False                                   False   \n",
       "12                      False                                   False   \n",
       "24                      False                                   False   \n",
       "\n",
       "    listed_in_Stand-Up Comedy & Talk Shows, TV Comedies  \\\n",
       "7                                               False     \n",
       "8                                               False     \n",
       "9                                               False     \n",
       "12                                              False     \n",
       "24                                              False     \n",
       "\n",
       "    listed_in_TV Action & Adventure, TV Sci-Fi & Fantasy  \\\n",
       "7                                               False      \n",
       "8                                               False      \n",
       "9                                               False      \n",
       "12                                              False      \n",
       "24                                              False      \n",
       "\n",
       "    listed_in_TV Comedies  listed_in_TV Comedies, TV Dramas  \\\n",
       "7                   False                             False   \n",
       "8                   False                             False   \n",
       "9                   False                             False   \n",
       "12                  False                             False   \n",
       "24                  False                             False   \n",
       "\n",
       "    listed_in_TV Dramas  listed_in_TV Horror, TV Mysteries, TV Thrillers  \\\n",
       "7                 False                                            False   \n",
       "8                 False                                            False   \n",
       "9                 False                                            False   \n",
       "12                False                                            False   \n",
       "24                False                                            False   \n",
       "\n",
       "    listed_in_TV Shows  listed_in_Thrillers  \n",
       "7                False                False  \n",
       "8                False                False  \n",
       "9                False                False  \n",
       "12               False                False  \n",
       "24               False                False  \n",
       "\n",
       "[5 rows x 950 columns]"
      ]
     },
     "execution_count": 15,
     "metadata": {},
     "output_type": "execute_result"
    }
   ],
   "source": [
    "data1.head()"
   ]
  }
 ],
 "metadata": {
  "kaggle": {
   "accelerator": "none",
   "dataSources": [
    {
     "datasetId": 4829175,
     "sourceId": 8162139,
     "sourceType": "datasetVersion"
    }
   ],
   "dockerImageVersionId": 30698,
   "isGpuEnabled": false,
   "isInternetEnabled": false,
   "language": "python",
   "sourceType": "notebook"
  },
  "kernelspec": {
   "display_name": "Python 3",
   "language": "python",
   "name": "python3"
  },
  "language_info": {
   "codemirror_mode": {
    "name": "ipython",
    "version": 3
   },
   "file_extension": ".py",
   "mimetype": "text/x-python",
   "name": "python",
   "nbconvert_exporter": "python",
   "pygments_lexer": "ipython3",
   "version": "3.10.13"
  },
  "papermill": {
   "default_parameters": {},
   "duration": 6.586573,
   "end_time": "2024-04-23T20:20:34.468523",
   "environment_variables": {},
   "exception": null,
   "input_path": "__notebook__.ipynb",
   "output_path": "__notebook__.ipynb",
   "parameters": {},
   "start_time": "2024-04-23T20:20:27.881950",
   "version": "2.5.0"
  }
 },
 "nbformat": 4,
 "nbformat_minor": 5
}
